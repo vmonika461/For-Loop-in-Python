{
 "cells": [
  {
   "cell_type": "markdown",
   "id": "eef55805",
   "metadata": {},
   "source": [
    "# 1. take name as input and say hello\n",
    "name = input(\" \")\n",
    "print(\"Hello, \" + name + \"!\")\n"
   ]
  },
  {
   "cell_type": "code",
   "execution_count": 2,
   "id": "01556715",
   "metadata": {},
   "outputs": [
    {
     "name": "stdout",
     "output_type": "stream",
     "text": [
      "Count of is = 2\n"
     ]
    }
   ],
   "source": [
    "# 2. From below string print count of \"Is\".\n",
    "string = \"He is Amol and she is Chaitali\"\n",
    "\n",
    "count = string.count(\"is\")\n",
    "print(\"Count of is = {}\".format(count))"
   ]
  },
  {
   "cell_type": "code",
   "execution_count": 3,
   "id": "9ebe9440",
   "metadata": {},
   "outputs": [
    {
     "name": "stdout",
     "output_type": "stream",
     "text": [
      "['Data', 'is', 'new', 'oil']\n"
     ]
    }
   ],
   "source": [
    "# 3. from below string split the words by space\n",
    "string = \"Data is new oil\"\n",
    "\n",
    "splitted_list = string.split(\" \")\n",
    "print(splitted_list)"
   ]
  },
  {
   "cell_type": "code",
   "execution_count": 4,
   "id": "e17d1540",
   "metadata": {},
   "outputs": [
    {
     "name": "stdout",
     "output_type": "stream",
     "text": [
      "Data=is=new=oil\n"
     ]
    }
   ],
   "source": [
    "# 4. now from below list, join all words by \"=\" and create a sentence.\n",
    "list_1 = [\"Data\", \"is\", \"new\", \"oil\"]\n",
    "sentense =  \"=\".join(list_1)\n",
    "print(sentense)"
   ]
  },
  {
   "cell_type": "code",
   "execution_count": 5,
   "id": "1ed07f13",
   "metadata": {},
   "outputs": [
    {
     "name": "stdout",
     "output_type": "stream",
     "text": [
      "I love programming in Python.\n"
     ]
    }
   ],
   "source": [
    "# 5. from below string replace \"Java\" with \"Python\"\n",
    "sentence = \"I love programming in Java.\"\n",
    "new_s = sentence.replace(\"Java\",\"Python\")\n",
    "print(new_s)"
   ]
  },
  {
   "cell_type": "code",
   "execution_count": 6,
   "id": "07146920",
   "metadata": {},
   "outputs": [
    {
     "name": "stdout",
     "output_type": "stream",
     "text": [
      "This is a message with spaces.\n"
     ]
    }
   ],
   "source": [
    "# 6. from below string remove(strip) additional spaces and print it\n",
    "message = \"   This is a message with spaces.   \"\n",
    "new_m = message.strip()\n",
    "print(new_m)"
   ]
  },
  {
   "cell_type": "code",
   "execution_count": 7,
   "id": "c18a045c",
   "metadata": {},
   "outputs": [
    {
     "name": "stdout",
     "output_type": "stream",
     "text": [
      "10\n"
     ]
    }
   ],
   "source": [
    "#7. From below string find postion(start index) of \"sample\"\n",
    "import re\n",
    "sentence = \"This is a sample sentence.\"\n",
    "pattern = re.compile(re.escape(\"sample\"))\n",
    "match = pattern.search(sentence)\n",
    "start_index = match.start()\n",
    "\n",
    "print(start_index)"
   ]
  },
  {
   "cell_type": "code",
   "execution_count": 8,
   "id": "9aae89df",
   "metadata": {},
   "outputs": [
    {
     "name": "stdout",
     "output_type": "stream",
     "text": [
      "14\n"
     ]
    }
   ],
   "source": [
    "#8. Given the string \"Python is fun!\", how can you calculate and print its length?\n",
    "text = \"Python is fun!\"\n",
    "print(len(text))"
   ]
  },
  {
   "cell_type": "code",
   "execution_count": 9,
   "id": "b724400b",
   "metadata": {},
   "outputs": [
    {
     "name": "stdout",
     "output_type": "stream",
     "text": [
      "elppaeniP\n"
     ]
    }
   ],
   "source": [
    "#9. Print below string in reverse order\n",
    "string = \"Pineapple\"\n",
    "print(string[::-1])"
   ]
  },
  {
   "cell_type": "code",
   "execution_count": 10,
   "id": "e4964112",
   "metadata": {},
   "outputs": [
    {
     "name": "stdout",
     "output_type": "stream",
     "text": [
      "Welcome To Python Programming.\n"
     ]
    }
   ],
   "source": [
    "#10. Given the string \"Welcome to Python Programming.\", how can you capitalize the first letter of each word and print the modified string?\n",
    "text = \"Welcome to Python Programming.\"\n",
    "print(text.title())"
   ]
  },
  {
   "cell_type": "code",
   "execution_count": 13,
   "id": "3c5e0700",
   "metadata": {},
   "outputs": [
    {
     "name": "stdout",
     "output_type": "stream",
     "text": [
      "DATA IS NEW OIL\n"
     ]
    }
   ],
   "source": [
    "#11. Convert all letter of string to Upper Case\n",
    "text = \"Data is new oil\"\n",
    "print(text.upper())"
   ]
  },
  {
   "cell_type": "code",
   "execution_count": 14,
   "id": "10c60f0d",
   "metadata": {},
   "outputs": [
    {
     "name": "stdout",
     "output_type": "stream",
     "text": [
      "I am learning python\n"
     ]
    }
   ],
   "source": [
    "#12. From below string just convert first lettter of string to upper case\n",
    "text = \"i am learning python\"\n",
    "print(text.capitalize())"
   ]
  },
  {
   "cell_type": "code",
   "execution_count": 15,
   "id": "649851aa",
   "metadata": {},
   "outputs": [
    {
     "name": "stdout",
     "output_type": "stream",
     "text": [
      "dAta IS nEw Oil\n"
     ]
    }
   ],
   "source": [
    "#13. Convert all uppper case to lower and lower case to upper\n",
    "text = \"DaTA is NeW oIL\"\n",
    "print(text.swapcase())"
   ]
  },
  {
   "cell_type": "code",
   "execution_count": 16,
   "id": "5c5c503c",
   "metadata": {},
   "outputs": [
    {
     "name": "stdout",
     "output_type": "stream",
     "text": [
      "2030\n"
     ]
    }
   ],
   "source": [
    "#14. print the addition of below 2 strings\n",
    "a = 20\n",
    "b = 30\n",
    "print(str(a)+str(b))"
   ]
  },
  {
   "cell_type": "code",
   "execution_count": 17,
   "id": "a3cec6bf",
   "metadata": {},
   "outputs": [
    {
     "name": "stdout",
     "output_type": "stream",
     "text": [
      "2030\n"
     ]
    }
   ],
   "source": [
    "#15. print the additiono of below 2 strings\n",
    "a = \"20\"\n",
    "b = \"30\"\n",
    "print(a+b)"
   ]
  },
  {
   "cell_type": "markdown",
   "id": "57444b82",
   "metadata": {},
   "source": [
    "# List Practice"
   ]
  },
  {
   "cell_type": "code",
   "execution_count": 18,
   "id": "a1c77e08",
   "metadata": {},
   "outputs": [
    {
     "name": "stdout",
     "output_type": "stream",
     "text": [
      "[1, 2, 3, 44, 5]\n"
     ]
    }
   ],
   "source": [
    "## 16. From below list replace 4 with 44\n",
    "my_list = [1, 2, 3, 4, 5]\n",
    "my_list[3] = 44\n",
    "print(my_list)"
   ]
  },
  {
   "cell_type": "code",
   "execution_count": 19,
   "id": "e9185bd1",
   "metadata": {},
   "outputs": [
    {
     "name": "stdout",
     "output_type": "stream",
     "text": [
      "[1, 2, 3, 200, 4, 5]\n"
     ]
    }
   ],
   "source": [
    "## 17. In below list add(insert) 200 at index 3\n",
    "my_list = [1, 2, 3, 4, 5]\n",
    "my_list.insert(3,200)\n",
    "print(my_list)"
   ]
  },
  {
   "cell_type": "code",
   "execution_count": 20,
   "id": "68d3488a",
   "metadata": {},
   "outputs": [
    {
     "name": "stdout",
     "output_type": "stream",
     "text": [
      "[1, 2, 3, 4, 5, 66]\n"
     ]
    }
   ],
   "source": [
    "## 18. In below list add new number 66\n",
    "my_list = [1, 2, 3, 4, 5]\n",
    "my_list.append(66)\n",
    "print(my_list)"
   ]
  },
  {
   "cell_type": "code",
   "execution_count": 21,
   "id": "bf84a287",
   "metadata": {},
   "outputs": [
    {
     "name": "stdout",
     "output_type": "stream",
     "text": [
      "[1, 2, 3, 4, 5, 66, 87, 99]\n"
     ]
    }
   ],
   "source": [
    "## 19 In below list insert new numbers 66,87,99\n",
    "my_list = [1, 2, 3, 4, 5]\n",
    "my_list.extend([66,87,99])\n",
    "print(my_list)"
   ]
  },
  {
   "cell_type": "code",
   "execution_count": 22,
   "id": "7149474d",
   "metadata": {},
   "outputs": [
    {
     "name": "stdout",
     "output_type": "stream",
     "text": [
      "[1, 2, 4, 5]\n"
     ]
    }
   ],
   "source": [
    "## 20. from below list remove number 3\n",
    "my_list = [1, 2, 3, 4, 5]\n",
    "my_list.remove(3)\n",
    "print(my_list)"
   ]
  },
  {
   "cell_type": "code",
   "execution_count": 23,
   "id": "386089f5",
   "metadata": {},
   "outputs": [
    {
     "data": {
      "text/plain": [
       "2"
      ]
     },
     "execution_count": 23,
     "metadata": {},
     "output_type": "execute_result"
    }
   ],
   "source": [
    "## 21. From below list print count of \"cherry\"\n",
    "my_list = [1, 2.5, \"cherry\", 3, \"banana\", 4.0, \"cherry\"]\n",
    "my_list.count(\"cherry\")"
   ]
  },
  {
   "cell_type": "code",
   "execution_count": 24,
   "id": "bf0a5970",
   "metadata": {},
   "outputs": [
    {
     "data": {
      "text/plain": [
       "4"
      ]
     },
     "execution_count": 24,
     "metadata": {},
     "output_type": "execute_result"
    }
   ],
   "source": [
    "## 22. From below list print index of \"banana\"\n",
    "my_list = [1, 2.5, \"apple\", 3, \"banana\", 4.0, \"cherry\"]\n",
    "my_list.index(\"banana\")"
   ]
  },
  {
   "cell_type": "code",
   "execution_count": 25,
   "id": "19e936de",
   "metadata": {},
   "outputs": [
    {
     "name": "stdout",
     "output_type": "stream",
     "text": [
      "['Pune', 'Delhi', 'Mumbai', 'Indore', 'Jaipur']\n"
     ]
    }
   ],
   "source": [
    "## 23. From below list remove last item\n",
    "my_list = [\"Pune\",\"Delhi\",\"Mumbai\",\"Indore\",\"Jaipur\",\"Dehradun\"]\n",
    "my_list.pop()\n",
    "print(my_list)"
   ]
  },
  {
   "cell_type": "code",
   "execution_count": 26,
   "id": "7d85b829",
   "metadata": {},
   "outputs": [
    {
     "name": "stdout",
     "output_type": "stream",
     "text": [
      "['Apple', 'Banana', 'Cherry', 'Grapes', 'Mango']\n"
     ]
    }
   ],
   "source": [
    "## 24. Sort the below list in Alphabetical order\n",
    "my_list = [\"Grapes\",\"Apple\",\"Cherry\",\"Mango\",\"Banana\"]\n",
    "my_list.sort()\n",
    "print(my_list)"
   ]
  },
  {
   "cell_type": "code",
   "execution_count": 27,
   "id": "17f35c53",
   "metadata": {},
   "outputs": [
    {
     "name": "stdout",
     "output_type": "stream",
     "text": [
      "['Mango', 'Grapes', 'Cherry', 'Banana', 'Apple']\n"
     ]
    }
   ],
   "source": [
    "## 25. Sort below list in reverse Alphabetical order\n",
    "my_list = [\"Grapes\",\"Apple\",\"Cherry\",\"Mango\",\"Banana\"]\n",
    "my_list.sort(reverse = True)\n",
    "print(my_list)"
   ]
  },
  {
   "cell_type": "markdown",
   "id": "18480169",
   "metadata": {},
   "source": [
    "# For Loop in Python\n"
   ]
  },
  {
   "cell_type": "code",
   "execution_count": 1,
   "id": "0f73e87c",
   "metadata": {},
   "outputs": [
    {
     "name": "stdout",
     "output_type": "stream",
     "text": [
      "1\n",
      "2\n",
      "3\n",
      "4\n",
      "5\n",
      "6\n",
      "7\n",
      "8\n",
      "9\n",
      "10\n"
     ]
    }
   ],
   "source": [
    "n=11\n",
    "for i in range(1,n):\n",
    "        print(i)"
   ]
  },
  {
   "cell_type": "code",
   "execution_count": 6,
   "id": "1070a503",
   "metadata": {},
   "outputs": [
    {
     "name": "stdout",
     "output_type": "stream",
     "text": [
      "0\n",
      "2\n",
      "4\n",
      "6\n",
      "8\n"
     ]
    }
   ],
   "source": [
    "given_range = 10\n",
    " \n",
    "for i in range(given_range):\n",
    "      # if number is divisble by 2\n",
    "        # then it's even\n",
    "        if i%2==0:\n",
    "            print(i)"
   ]
  },
  {
   "cell_type": "code",
   "execution_count": 7,
   "id": "cf57f304",
   "metadata": {},
   "outputs": [
    {
     "name": "stdout",
     "output_type": "stream",
     "text": [
      "1\n",
      "3\n",
      "6\n",
      "10\n",
      "15\n",
      "21\n",
      "28\n",
      "36\n",
      "45\n",
      "55\n"
     ]
    }
   ],
   "source": [
    "given_number = 10\n",
    "sum= 0\n",
    "# since we want to include the number 10 in the sum\n",
    "# increment given number by 1 in the for loop\n",
    "for i in range(1,given_number+1):\n",
    "        sum+=i\n",
    "        print(sum)"
   ]
  },
  {
   "cell_type": "code",
   "execution_count": 8,
   "id": "161a2cff",
   "metadata": {},
   "outputs": [
    {
     "name": "stdout",
     "output_type": "stream",
     "text": [
      "1\n",
      "4\n",
      "9\n",
      "16\n",
      "25\n"
     ]
    }
   ],
   "source": [
    "given_range = 10\n",
    " \n",
    "# set up a variable to store the sum\n",
    "# with initial value of 0\n",
    "sum = 0\n",
    " \n",
    "for i in range(given_range):\n",
    " \n",
    "        # if i is odd, add it\n",
    "        # to the sum variable\n",
    "        if i%2!=0:\n",
    "                sum+=i\n",
    "                print(sum)"
   ]
  },
  {
   "cell_type": "code",
   "execution_count": 9,
   "id": "87a47853",
   "metadata": {},
   "outputs": [
    {
     "name": "stdout",
     "output_type": "stream",
     "text": [
      "5  x 0  = 0\n",
      "5  x 1  = 5\n",
      "5  x 2  = 10\n",
      "5  x 3  = 15\n",
      "5  x 4  = 20\n",
      "5  x 5  = 25\n",
      "5  x 6  = 30\n",
      "5  x 7  = 35\n",
      "5  x 8  = 40\n",
      "5  x 9  = 45\n",
      "5  x 10  = 50\n"
     ]
    }
   ],
   "source": [
    "given_number = 5\n",
    " \n",
    "for i in range(11):\n",
    "        print (given_number,\" x\",i,\" =\",5*i)"
   ]
  },
  {
   "cell_type": "code",
   "execution_count": 14,
   "id": "1c7aec01",
   "metadata": {},
   "outputs": [
    {
     "name": "stdout",
     "output_type": "stream",
     "text": [
      "1\n",
      "2\n",
      "4\n",
      "6\n",
      "88\n",
      "125\n"
     ]
    }
   ],
   "source": [
    "list = [1,2,4,6,88,125]\n",
    "for i in list:\n",
    "    print(i)\n"
   ]
  },
  {
   "cell_type": "code",
   "execution_count": 18,
   "id": "198a87af",
   "metadata": {},
   "outputs": [
    {
     "name": "stdout",
     "output_type": "stream",
     "text": [
      "6\n"
     ]
    }
   ],
   "source": [
    "given_number = 129475\n",
    "given_number = str(given_number)\n",
    "count=0\n",
    "for i in given_number:\n",
    "        count += 1\n",
    "print(count)"
   ]
  },
  {
   "cell_type": "code",
   "execution_count": 19,
   "id": "ba84cff2",
   "metadata": {},
   "outputs": [
    {
     "name": "stdout",
     "output_type": "stream",
     "text": [
      "abhishek\n",
      "kehsihba\n"
     ]
    }
   ],
   "source": [
    "given_string = input()\n",
    "reverse_string = \"\"\n",
    "for i in given_string:\n",
    "    reverse_string = i + reverse_string  \n",
    "print(reverse_string)\n"
   ]
  },
  {
   "cell_type": "code",
   "execution_count": 21,
   "id": "c7390605",
   "metadata": {},
   "outputs": [
    {
     "name": "stdout",
     "output_type": "stream",
     "text": [
      "The given number 153 is an Amstrong number.\n"
     ]
    }
   ],
   "source": [
    "given_number = 153\n",
    "given_number = str(given_number)\n",
    "string_length = len(given_number)\n",
    "sum = 0\n",
    "for i in given_number:\n",
    "    sum += int(i)**string_length\n",
    "if sum == int(given_number):\n",
    "    print(\"The given number\",given_number,\"is an Amstrong number.\")\n",
    "else:\n",
    "    print(\"The given number\",given_number,\"is Not an Amstrong number.\")\n",
    " "
   ]
  },
  {
   "cell_type": "code",
   "execution_count": 24,
   "id": "3af44eb6",
   "metadata": {},
   "outputs": [
    {
     "name": "stdout",
     "output_type": "stream",
     "text": [
      "1 is an odd number.\n",
      "3 is an odd number.\n",
      "5 is an odd number.\n",
      "6 is an even number.\n",
      "99 is an odd number.\n",
      "134 is an even number.\n",
      "55 is an odd number.\n"
     ]
    }
   ],
   "source": [
    "num_list = [1,3,5,6,99,134,55]\n",
    "for i in num_list:\n",
    "    if i%2==0:\n",
    "        print(i,\"is an even number.\")\n",
    "    else:\n",
    "            print(i,\"is an odd number.\")\n",
    "\n",
    "\n",
    "\n"
   ]
  },
  {
   "cell_type": "code",
   "execution_count": 25,
   "id": "80ad558f",
   "metadata": {},
   "outputs": [
    {
     "name": "stdout",
     "output_type": "stream",
     "text": [
      "Non-prime numbers between 10 and 30 are:\n",
      "10\n",
      "12\n",
      "14\n",
      "15\n",
      "16\n",
      "18\n",
      "20\n",
      "21\n",
      "22\n",
      "24\n",
      "25\n",
      "26\n",
      "27\n",
      "28\n"
     ]
    }
   ],
   "source": [
    "\n",
    "import math\n",
    " \n",
    "# function to print all\n",
    "# non-primes in a range\n",
    "def is_not_prime(n):\n",
    " \n",
    "    # flag to track\n",
    "    # if no. is prime or not\n",
    "    # initially assume all numbers are\n",
    "    # non prime\n",
    "    flag = False\n",
    " \n",
    "    # iterate in the given range\n",
    "    # using for loop starting from 2\n",
    "    # as 0 & 1 are neither prime\n",
    "    # nor composite\n",
    "    for i in range(2, int(math.sqrt(n)) + 1):\n",
    " \n",
    "        # condition to check if a\n",
    "        # number is prime or not\n",
    "        if n % i == 0:\n",
    "            flag = True\n",
    "    return flag\n",
    " \n",
    "# lower bound of the range\n",
    "range_starts = 10\n",
    " \n",
    "# upper bound of the range\n",
    "range_ends = 30\n",
    "print(\"Non-prime numbers between\",range_starts,\"and\", range_ends,\"are:\")\n",
    " \n",
    "for number in filter(is_not_prime, range(range_starts, range_ends)):\n",
    "    print(number)\n"
   ]
  },
  {
   "cell_type": "code",
   "execution_count": 42,
   "id": "5786b20b",
   "metadata": {},
   "outputs": [
    {
     "ename": "IndentationError",
     "evalue": "unexpected indent (2157697987.py, line 7)",
     "output_type": "error",
     "traceback": [
      "\u001b[1;36m  Cell \u001b[1;32mIn[42], line 7\u001b[1;36m\u001b[0m\n\u001b[1;33m    print(next)\u001b[0m\n\u001b[1;37m    ^\u001b[0m\n\u001b[1;31mIndentationError\u001b[0m\u001b[1;31m:\u001b[0m unexpected indent\n"
     ]
    }
   ],
   "source": [
    "num = 50\n",
    "first_value,second_value = 0, 1\n",
    "for n in range(0, num):\n",
    "    if(n <= 1):\n",
    "        next = n\n",
    "        if nextnum: break\n",
    "              print(next)"
   ]
  },
  {
   "cell_type": "code",
   "execution_count": 43,
   "id": "353a39e5",
   "metadata": {},
   "outputs": [
    {
     "name": "stdout",
     "output_type": "stream",
     "text": [
      "The factorial of  5  is  1\n",
      "The factorial of  5  is  2\n",
      "The factorial of  5  is  6\n",
      "The factorial of  5  is  24\n",
      "The factorial of  5  is  120\n"
     ]
    }
   ],
   "source": [
    "given_number= 5\n",
    "factorial = 1\n",
    "for i in range(1, given_number + 1):\n",
    "    factorial = factorial *i\n",
    "    print(\"The factorial of \", given_number, \" is \", factorial)\n",
    "    "
   ]
  },
  {
   "cell_type": "code",
   "execution_count": 35,
   "id": "845e821a",
   "metadata": {},
   "outputs": [
    {
     "name": "stdout",
     "output_type": "stream",
     "text": [
      "Monika123\n",
      " The input string Monika123 has 6 letters and 3 digits.\n"
     ]
    }
   ],
   "source": [
    "user_input = input()\n",
    "digits = 0\n",
    "letters = 0\n",
    "for i in user_input:\n",
    "    if i.isdigit():\n",
    "     digits=digits+1\n",
    "    elif i.isalpha():\n",
    "                 letters=letters+1\n",
    " \n",
    "print(\" The input string\",user_input, \"has\", letters, \"letters and\", digits,\"digits.\")"
   ]
  },
  {
   "cell_type": "code",
   "execution_count": 36,
   "id": "556c885c",
   "metadata": {},
   "outputs": [
    {
     "name": "stdout",
     "output_type": "stream",
     "text": [
      "The month of January has 31 days.\n",
      "The month of April has 30 days.\n",
      "The month of August has 31 days.\n",
      "The month of June has 30 days.\n",
      "Dovember is not a valid month name.\n"
     ]
    }
   ],
   "source": [
    "month = [\"January\", \"April\", \"August\",\"June\",\"Dovember\"]\n",
    " \n",
    "# iterate through each mont in the list\n",
    "for i in month:\n",
    "    if i == \"February\":\n",
    "            print(\"The month of February has 28/29 days\")\n",
    "    elif i in (\"April\", \"June\", \"September\", \"November\"):\n",
    "            print(\"The month of\",i,\"has 30 days.\")\n",
    "    elif i in (\"January\", \"March\", \"May\", \"July\", \"August\", \"October\", \"December\"):\n",
    "            print(\"The month of\",i,\"has 31 days.\")\n",
    "    else:\n",
    "            print(i,\"is not a valid month name.\")"
   ]
  },
  {
   "cell_type": "code",
   "execution_count": null,
   "id": "cea74f71",
   "metadata": {},
   "outputs": [],
   "source": [
    "\n",
    "\n",
    "\n",
    "\n"
   ]
  }
 ],
 "metadata": {
  "kernelspec": {
   "display_name": "Python 3 (ipykernel)",
   "language": "python",
   "name": "python3"
  },
  "language_info": {
   "codemirror_mode": {
    "name": "ipython",
    "version": 3
   },
   "file_extension": ".py",
   "mimetype": "text/x-python",
   "name": "python",
   "nbconvert_exporter": "python",
   "pygments_lexer": "ipython3",
   "version": "3.11.3"
  }
 },
 "nbformat": 4,
 "nbformat_minor": 5
}
